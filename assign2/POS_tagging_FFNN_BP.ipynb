{
  "nbformat": 4,
  "nbformat_minor": 0,
  "metadata": {
    "colab": {
      "provenance": [],
      "collapsed_sections": []
    },
    "kernelspec": {
      "name": "python3",
      "display_name": "Python 3"
    },
    "language_info": {
      "name": "python"
    }
  },
  "cells": [
    {
      "cell_type": "code",
      "execution_count": 14,
      "metadata": {
        "colab": {
          "base_uri": "https://localhost:8080/"
        },
        "id": "GL96KlO6wzqN",
        "outputId": "58ed4a4b-0243-47ba-9249-6d83be32d2d1"
      },
      "outputs": [
        {
          "output_type": "stream",
          "name": "stderr",
          "text": [
            "[nltk_data] Downloading package brown to /root/nltk_data...\n",
            "[nltk_data]   Package brown is already up-to-date!\n",
            "[nltk_data] Downloading package universal_tagset to /root/nltk_data...\n",
            "[nltk_data]   Package universal_tagset is already up-to-date!\n"
          ]
        }
      ],
      "source": [
        "import nltk\n",
        "import zipfile \n",
        "nltk.download('brown')\n",
        "nltk.download('universal_tagset')\n",
        "import numpy as np\n",
        "from nltk.corpus import brown\n",
        "from gensim.models import Word2Vec\n",
        "from gensim.models import FastText\n",
        "import pandas as pd\n",
        "import seaborn as sns\n",
        "import matplotlib.pyplot as plt\n",
        "from sklearn.model_selection import KFold\n",
        "from sklearn.metrics import confusion_matrix\n",
        "from sklearn.metrics import precision_score\n",
        "from sklearn.metrics import recall_score\n",
        "from sklearn.metrics import fbeta_score\n",
        "from nltk.metrics import ConfusionMatrix\n",
        "from keras.models import Sequential\n",
        "from keras.layers import Dense, Activation, Embedding\n",
        "from keras.utils.np_utils import to_categorical\n",
        "universal_tagset = {'ADJ' : 1, 'ADP' : 2, 'ADV' : 3, 'CONJ' : 4, 'DET' : 5, \\\n",
        "                    'NOUN' : 6, 'NUM' : 7, 'PRT' : 8, 'PRON' : 9, 'VERB' : 10,\\\n",
        "                    '.' : 11, 'X' : 12, '0' : 0}\n",
        "\n",
        "universal_tag = np.array(['ADJ', 'ADP', 'ADV', 'CONJ', 'DET', 'NOUN',\\\n",
        "                             'NUM', 'PRT', 'PRON', 'VERB', '.', 'X'])"
      ]
    },
    {
      "cell_type": "code",
      "source": [
        "def remove_padding(data, length):\n",
        "  test_output =[]\n",
        "  for i in data:\n",
        "    test_output.append(np.argmax(i))\n",
        "  final_output = []\n",
        "  for i in range(length):\n",
        "    for key, items in universal_tagset.items():\n",
        "      if test_output[i] == items: final_output.append(key)\n",
        "  return final_output"
      ],
      "metadata": {
        "id": "DQz70s7PCCLr"
      },
      "execution_count": 2,
      "outputs": []
    },
    {
      "cell_type": "code",
      "source": [
        "def split(input):\n",
        "  sen = []\n",
        "  output = input.split(' ')\n",
        "  for i in output:\n",
        "    sen.append(i)\n",
        "  print(sen)  \n",
        "  return sen"
      ],
      "metadata": {
        "id": "wEfOc2W4pKwT"
      },
      "execution_count": 15,
      "outputs": []
    },
    {
      "cell_type": "code",
      "source": [
        "lower_case_sents = []\n",
        "word_dic = {}\n",
        "count = 1\n",
        "for sentence in brown.sents():\n",
        "  lower_case_sent = []\n",
        "  for word in sentence:\n",
        "    if word.lower() not in word_dic:\n",
        "      word_dic[word.lower()] = count\n",
        "      count +=1\n",
        "    lower_case_sent.append(word.lower())\n",
        "  lower_case_sents.append(lower_case_sent)\n",
        "corpus_wv = Word2Vec(lower_case_sents, min_count = 1)\n",
        "\n",
        "embedding_matrix = []\n",
        "embedding_matrix.append(np.zeros(100))\n",
        "for word in word_dic.keys():\n",
        "  embedding_matrix.append(corpus_wv.wv[word])"
      ],
      "metadata": {
        "id": "chA0kyTGxTNe"
      },
      "execution_count": 3,
      "outputs": []
    },
    {
      "cell_type": "code",
      "source": [
        "max_length = max(len(x) for x in brown.sents())\n",
        "indexed_sents = []\n",
        "len_matrix = []\n",
        "for sentence in brown.sents():\n",
        "  len_matrix.append(len(sentence))\n",
        "  indexed_sent = []\n",
        "  for i in range(max_length):\n",
        "    if i < len(sentence):\n",
        "      indexed_sent.append(word_dic[sentence[i].lower()])\n",
        "    else:\n",
        "      indexed_sent.append(0)\n",
        "  indexed_sents.append(indexed_sent)\n",
        "input = indexed_sents"
      ],
      "metadata": {
        "id": "Gso5U6IPxj3M"
      },
      "execution_count": 4,
      "outputs": []
    },
    {
      "cell_type": "code",
      "source": [
        "indexed_tags = []\n",
        "for sentence in brown.tagged_sents(tagset = \"universal\"):\n",
        "  indexed_tag = []\n",
        "  for i in range(max_length):\n",
        "    if i < len(sentence):\n",
        "      indexed_tag.append(universal_tagset[sentence[i][1]])\n",
        "    else:\n",
        "      indexed_tag.append(0)\n",
        "  indexed_tags.append(indexed_tag)\n",
        "output = to_categorical(indexed_tags)"
      ],
      "metadata": {
        "id": "jKBn2rWSzNPJ"
      },
      "execution_count": 5,
      "outputs": []
    },
    {
      "cell_type": "code",
      "source": [
        "kf = KFold(n_splits=5, random_state=1, shuffle=True)           # main function and Kfold\n",
        "epoch = 1\n",
        "accuracies = []\n",
        "true_tags = []\n",
        "output_tags = []\n",
        "\n",
        "for train_index, test_index in kf.split(input, output):         # spliting the kfold in 5 parts\n",
        "  X = []\n",
        "  Y = []\n",
        "  X_test_length = []\n",
        "  for i in train_index:\n",
        "    X.append(input[i])\n",
        "    Y.append(output[i])\n",
        "\n",
        "  X_test = []\n",
        "  Y_test = []\n",
        "  for i in test_index:\n",
        "    X_test.append(input[i])\n",
        "    Y_test.append(output[i])\n",
        "    X_test_length.append(len_matrix[i])\n",
        "\n",
        "  model = Sequential()\n",
        "  model.add(Embedding(input_dim = len(word_dic) + 1, output_dim = 100, \\\n",
        "                      input_length = 180, weights = [np.array(embedding_matrix)], \\\n",
        "                      trainable = True))\n",
        "  model.add(Dense(13, activation='softmax'))\n",
        "  model.compile(loss = 'categorical_crossentropy', optimizer =  'adam', metrics   =  ['accuracy'])\n",
        "  model.fit(np.array(X), np.array(Y), batch_size=128, epochs=5, verbose = False)\n",
        "  \n",
        "  evaulation = model.evaluate(np.array(X_test), np.array(Y_test), batch_size=128, verbose = False)\n",
        "  print(\"Accuracy for fold\", epoch ,\":\", evaulation[1]*100)\n",
        "  accuracies.append(evaulation[1]*100)\n",
        "  prediction = model.predict(np.array(X_test))\n",
        "  for i in range(len(X_test)):\n",
        "    true_tags.append(remove_padding(Y_test[i], X_test_length[i]))\n",
        "    output_tags.append(remove_padding(prediction[i], X_test_length[i]))\n",
        "  epoch+=1\n",
        "print(\"Average accuary of K-Fold valiavtion : \", sum(accuracies)/5)"
      ],
      "metadata": {
        "id": "oyEcOxP-2Rhc",
        "colab": {
          "base_uri": "https://localhost:8080/"
        },
        "outputId": "b93ec94c-872d-4797-b689-1998cf593150"
      },
      "execution_count": 6,
      "outputs": [
        {
          "output_type": "stream",
          "name": "stdout",
          "text": [
            "Accuracy for fold 1 : 99.37924146652222\n",
            "Accuracy for fold 2 : 99.37856197357178\n",
            "Accuracy for fold 3 : 99.38006401062012\n",
            "Accuracy for fold 4 : 99.37318563461304\n",
            "Accuracy for fold 5 : 99.37381148338318\n",
            "Average accuary of K-Fold valiavtion :  99.37697291374207\n"
          ]
        }
      ]
    },
    {
      "cell_type": "code",
      "source": [
        "t = true_tags\n",
        "o = output_tags"
      ],
      "metadata": {
        "id": "7UElIy_OPlPa"
      },
      "execution_count": 7,
      "outputs": []
    },
    {
      "cell_type": "code",
      "source": [
        "true_tags = []\n",
        "output_tags= []\n",
        "for i in t:\n",
        "  for j in i: true_tags.append(j)\n",
        "\n",
        "for i in o:\n",
        "  for j in i: output_tags.append(j)"
      ],
      "metadata": {
        "id": "GR4eVVvlPuCI"
      },
      "execution_count": 8,
      "outputs": []
    },
    {
      "cell_type": "code",
      "source": [
        "print(\"Confusion Matrix:\")\n",
        "print(ConfusionMatrix(true_tags, output_tags))\n",
        "\n",
        "print()\n",
        "print()\n",
        "\n",
        "p = precision_score(true_tags, output_tags, average = None, labels = universal_tag)\n",
        "for i in range(len(universal_tag)):\n",
        "  print(\"Precision of \", universal_tag[i], \" : \", p[i])\n",
        "\n",
        "print()\n",
        "print()\n",
        "\n",
        "r = recall_score(true_tags, output_tags, average = None, labels = universal_tag)\n",
        "for i in range(len(universal_tag)):\n",
        "  print(\"Recall of \", universal_tag[i], \" : \", r[i])\n",
        "\n",
        "print()\n",
        "print()\n",
        "\n",
        "f1 = fbeta_score(true_tags, output_tags, average = None, beta=1.0, labels = universal_tag)\n",
        "for i in range(len(universal_tag)):\n",
        "  print(\"F1 Score of \", universal_tag[i], \" : \", f1[i])"
      ],
      "metadata": {
        "colab": {
          "base_uri": "https://localhost:8080/"
        },
        "id": "6TsuM13nHt1M",
        "outputId": "790651b6-b785-4933-d4ee-d9da8b3357bd"
      },
      "execution_count": 9,
      "outputs": [
        {
          "output_type": "stream",
          "name": "stdout",
          "text": [
            "Confusion Matrix:\n",
            "     |                                         C             N             P             V        |\n",
            "     |                    A      A      A      O      D      O      N      R      P      E        |\n",
            "     |                    D      D      D      N      E      U      U      O      R      R        |\n",
            "     |      .      0      J      P      V      J      T      N      M      N      T      B      X |\n",
            "-----+--------------------------------------------------------------------------------------------+\n",
            "   . |<147565>     .      .      .      .      .      .      .      .      .      .      .      . |\n",
            "   0 |      .     <.>     .      .      .      .      .      .      .      .      .      .      . |\n",
            " ADJ |      .     85 <73073>   135   3350      .      .   6690      3      .      6    376      3 |\n",
            " ADP |     20      1    119<131438>   748    148      1    104      1      .  12141     44      1 |\n",
            " ADV |      .     23   2501   3030 <48520>    68    361    888      .      2    840      6      . |\n",
            "CONJ |      .      .      .      3    133 <37999>    12      4      .      .      .      .      . |\n",
            " DET |      .      1      .   2273      2    100<134603>    23      2     14      1      .      . |\n",
            "NOUN |      1    218   3138    130    351      1    119<265497>   574     33     42   5403     51 |\n",
            " NUM |      .     11      2      .      .      .      .    964 <13897>     .      .      .      . |\n",
            "PRON |      .      .      .   1798      3      .   1154     18      . <46353>     8      .      . |\n",
            " PRT |      .      4    355   1509    195      .      2    248      .      1 <27476>    38      1 |\n",
            "VERB |      .    109    600    249    102      .      .  11596      .      .      5<170087>     2 |\n",
            "   X |     24      4     17     27      5      4     18    855      5      6      5     36   <380>|\n",
            "-----+--------------------------------------------------------------------------------------------+\n",
            "(row = reference; col = test)\n",
            "\n",
            "\n",
            "\n",
            "Precision of  ADJ  :  0.915644383184011\n",
            "Precision of  ADP  :  0.9348896096506202\n",
            "Precision of  ADV  :  0.9084611207848864\n",
            "Precision of  CONJ  :  0.9916231732776618\n",
            "Precision of  DET  :  0.9877669332941953\n",
            "Precision of  NOUN  :  0.925441027303433\n",
            "Precision of  NUM  :  0.9596050269299821\n",
            "Precision of  PRT  :  0.6780179646629158\n",
            "Precision of  PRON  :  0.998793337499192\n",
            "Precision of  VERB  :  0.9664583214955396\n",
            "Precision of  .  :  0.9996951426055145\n",
            "Precision of  X  :  0.867579908675799\n",
            "\n",
            "\n",
            "Recall of  ADJ  :  0.8728156615425042\n",
            "Recall of  ADP  :  0.9079341834408632\n",
            "Recall of  ADV  :  0.8627464926474511\n",
            "Recall of  CONJ  :  0.9960158318261645\n",
            "Recall of  DET  :  0.9823674088994957\n",
            "Recall of  NOUN  :  0.9634886303427953\n",
            "Recall of  NUM  :  0.9343149119268522\n",
            "Recall of  PRT  :  0.9211170337590935\n",
            "Recall of  PRON  :  0.9395751408764746\n",
            "Recall of  VERB  :  0.9307086183310533\n",
            "Recall of  .  :  1.0\n",
            "Recall of  X  :  0.2741702741702742\n",
            "\n",
            "\n",
            "F1 Score of  ADJ  :  0.8937172070496434\n",
            "F1 Score of  ADP  :  0.9212147547992348\n",
            "F1 Score of  ADV  :  0.8850138625419525\n",
            "F1 Score of  CONJ  :  0.9938146486903532\n",
            "F1 Score of  DET  :  0.9850597718898308\n",
            "F1 Score of  NOUN  :  0.9440816435384793\n",
            "F1 Score of  NUM  :  0.9467911159558522\n",
            "F1 Score of  PRT  :  0.7810896479183544\n",
            "F1 Score of  PRON  :  0.9682796653541251\n",
            "F1 Score of  VERB  :  0.9482466410213526\n",
            "F1 Score of  .  :  0.9998475480647073\n",
            "F1 Score of  X  :  0.41666666666666663\n"
          ]
        }
      ]
    },
    {
      "cell_type": "code",
      "source": [
        "p = precision_score(true_tags, output_tags, average = \"weighted\", labels = universal_tag)\n",
        "r = recall_score(true_tags, output_tags, average = \"weighted\", labels = universal_tag)\n",
        "f_point_five = fbeta_score(true_tags, output_tags, beta=0.5, average = \"weighted\", labels = universal_tag)\n",
        "f_one = fbeta_score(true_tags, output_tags, beta=1.0, average = \"weighted\", labels = universal_tag)\n",
        "f_two = fbeta_score(true_tags, output_tags, beta=2.0, average = \"weighted\", labels = universal_tag)\n",
        "\n",
        "print('Overall performance: \\n Precision = %f, \\n Recall = %f,'\\\n",
        "      ' \\n F0.5 Score = %f, \\n F1 Score = %f, \\n F2 Score = %f'\\\n",
        "      % (p, r, f_point_five,f_one,f_two))"
      ],
      "metadata": {
        "colab": {
          "base_uri": "https://localhost:8080/"
        },
        "id": "-MwxadWPHwg4",
        "outputId": "f36bf18b-6bf6-4bca-ae82-3e0c0337b780"
      },
      "execution_count": 10,
      "outputs": [
        {
          "output_type": "stream",
          "name": "stdout",
          "text": [
            "Overall performance: \n",
            " Precision = 0.947640, \n",
            " Recall = 0.944622, \n",
            " F0.5 Score = 0.946409, \n",
            " F1 Score = 0.945197, \n",
            " F2 Score = 0.944626\n"
          ]
        }
      ]
    },
    {
      "cell_type": "code",
      "source": [
        "plt.figure(figsize = (20,15))\n",
        "cm = confusion_matrix(true_tags, output_tags, labels = universal_tag)\n",
        "cm_nor = cm.astype('float') / cm.sum(axis=1)[:, np.newaxis]\n",
        "sns.heatmap(pd.DataFrame(cm_nor, index = universal_tag, columns = universal_tag), annot=True)"
      ],
      "metadata": {
        "colab": {
          "base_uri": "https://localhost:8080/",
          "height": 884
        },
        "id": "vh7jRSPfHyqE",
        "outputId": "46b0e1f2-7365-4994-9bbc-9c7312296575"
      },
      "execution_count": 11,
      "outputs": [
        {
          "output_type": "execute_result",
          "data": {
            "text/plain": [
              "<matplotlib.axes._subplots.AxesSubplot at 0x7f35f87ef110>"
            ]
          },
          "metadata": {},
          "execution_count": 11
        },
        {
          "output_type": "display_data",
          "data": {
            "text/plain": [
              "<Figure size 1440x1080 with 2 Axes>"
            ],
            "image/png": "[encoded data removed]"
          },
          "metadata": {
            "needs_background": "light"
          }
        }
      ]
    },
    {
      "cell_type": "code",
      "source": [
        "corpus_wv = FastText(lower_case_sents, min_count = 1)"
      ],
      "metadata": {
        "id": "xLSh-y3ooir5"
      },
      "execution_count": 16,
      "outputs": []
    },
    {
      "cell_type": "code",
      "source": [
        "def predict(testing):\n",
        "  test_input = []\n",
        "  for i in range(max_length):\n",
        "    if i < len(testing):\n",
        "      if testing[i].lower() in word_dic:\n",
        "        test_input.append(word_dic[testing[i].lower()])\n",
        "      else:\n",
        "        oov = corpus_wv.wv[word]\n",
        "        guesses, prob = zip(*corpus_wv.wv.most_similar([oov], []))\n",
        "        for guess in guesses:\n",
        "          if guess in word_dic:\n",
        "            test_input.append(word_dic[guess.lower()])\n",
        "            break\n",
        "          else: test_input.append(0)\n",
        "    else: test_input.append(0)\n",
        "  x = model.predict(np.array(test_input))\n",
        "  test_output =[]\n",
        "  for i in x:\n",
        "    test_output.append(np.argmax(i))\n",
        "  final_output = []\n",
        "  for i in range(len(testing)):\n",
        "    for key, items in universal_tagset.items():\n",
        "      if test_output[i] == items: final_output.append(key)\n",
        "  return final_output"
      ],
      "metadata": {
        "id": "5iMrgGGcnmr-"
      },
      "execution_count": 20,
      "outputs": []
    },
    {
      "cell_type": "code",
      "source": [
        "predict(split('Mumbai and Delhi rad is very nice'))"
      ],
      "metadata": {
        "id": "ZCz_qUfy8CA5",
        "colab": {
          "base_uri": "https://localhost:8080/"
        },
        "outputId": "d69df158-3b10-48dc-f598-a4a2a05ca4e6"
      },
      "execution_count": 22,
      "outputs": [
        {
          "output_type": "stream",
          "name": "stdout",
          "text": [
            "['Mumbai', 'and', 'Delhi', 'rad', 'is', 'very', 'nice']\n"
          ]
        },
        {
          "output_type": "execute_result",
          "data": {
            "text/plain": [
              "['NOUN', 'CONJ', 'NOUN', 'NOUN', 'VERB', 'ADV', 'ADJ']"
            ]
          },
          "metadata": {},
          "execution_count": 22
        }
      ]
    }
  ]
}

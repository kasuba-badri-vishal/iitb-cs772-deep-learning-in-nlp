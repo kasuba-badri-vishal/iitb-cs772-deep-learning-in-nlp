{
 "cells": [
  {
   "cell_type": "code",
   "execution_count": 80,
   "id": "ffd26763",
   "metadata": {},
   "outputs": [],
   "source": [
    "import pandas as pd"
   ]
  },
  {
   "cell_type": "code",
   "execution_count": 81,
   "id": "93f796ee",
   "metadata": {},
   "outputs": [
    {
     "name": "stderr",
     "output_type": "stream",
     "text": [
      "/var/folders/m5/wq5632qs3f3d1sqh_34wtzw00000gn/T/ipykernel_33899/2625965057.py:5: FutureWarning: The frame.append method is deprecated and will be removed from pandas in a future version. Use pandas.concat instead.\n",
      "  df = df1.append(df2, ignore_index=True)\n"
     ]
    }
   ],
   "source": [
    "df1 = pd.read_csv('./../data/Analogy_dataset.txt', names=['1','2','3','4'], sep=' ')\n",
    "df2 = pd.read_csv('./../data/Validation.txt', names=['1','2','3','4'], sep=' ')\n",
    "df3 = pd.read_csv('addition.csv')\n",
    "df3.columns = ['1','2','3','4']\n",
    "df = df1.append(df2, ignore_index=True)"
   ]
  },
  {
   "cell_type": "code",
   "execution_count": 82,
   "id": "0160544c",
   "metadata": {},
   "outputs": [
    {
     "name": "stderr",
     "output_type": "stream",
     "text": [
      "/var/folders/m5/wq5632qs3f3d1sqh_34wtzw00000gn/T/ipykernel_33899/2458899012.py:1: FutureWarning: The frame.append method is deprecated and will be removed from pandas in a future version. Use pandas.concat instead.\n",
      "  df = df.append(df3, ignore_index=True)\n"
     ]
    }
   ],
   "source": [
    "df = df.append(df3, ignore_index=True)"
   ]
  },
  {
   "cell_type": "code",
   "execution_count": 83,
   "id": "51488417",
   "metadata": {},
   "outputs": [],
   "source": [
    "df2 = df[['3','4']].rename(columns={'3':'1', '4':'2'})\n",
    "df = pd.concat([df[['1','2']],df2], ignore_index=True)\n",
    "df = df.drop_duplicates().reset_index(drop=True)"
   ]
  },
  {
   "cell_type": "code",
   "execution_count": 84,
   "id": "2072999a",
   "metadata": {},
   "outputs": [],
   "source": [
    "df['sentences'] = df[['1','2']].apply(lambda x : x['1'] + ' is ' + x['2'], axis=1)\n",
    "df = df[['sentences']]"
   ]
  },
  {
   "cell_type": "code",
   "execution_count": 85,
   "id": "83bc6965",
   "metadata": {},
   "outputs": [],
   "source": [
    "df.to_csv(\"trainset.csv\",index=False)"
   ]
  },
  {
   "cell_type": "code",
   "execution_count": 86,
   "id": "f1619e8b",
   "metadata": {},
   "outputs": [
    {
     "data": {
      "text/html": [
       "<div>\n",
       "<style scoped>\n",
       "    .dataframe tbody tr th:only-of-type {\n",
       "        vertical-align: middle;\n",
       "    }\n",
       "\n",
       "    .dataframe tbody tr th {\n",
       "        vertical-align: top;\n",
       "    }\n",
       "\n",
       "    .dataframe thead th {\n",
       "        text-align: right;\n",
       "    }\n",
       "</style>\n",
       "<table border=\"1\" class=\"dataframe\">\n",
       "  <thead>\n",
       "    <tr style=\"text-align: right;\">\n",
       "      <th></th>\n",
       "      <th>sentences</th>\n",
       "    </tr>\n",
       "  </thead>\n",
       "  <tbody>\n",
       "    <tr>\n",
       "      <th>0</th>\n",
       "      <td>Athens is Greece</td>\n",
       "    </tr>\n",
       "    <tr>\n",
       "      <th>1</th>\n",
       "      <td>Bangkok is Thailand</td>\n",
       "    </tr>\n",
       "    <tr>\n",
       "      <th>2</th>\n",
       "      <td>Beijing is China</td>\n",
       "    </tr>\n",
       "    <tr>\n",
       "      <th>3</th>\n",
       "      <td>Berlin is Germany</td>\n",
       "    </tr>\n",
       "    <tr>\n",
       "      <th>4</th>\n",
       "      <td>Cairo is Egypt</td>\n",
       "    </tr>\n",
       "    <tr>\n",
       "      <th>...</th>\n",
       "      <td>...</td>\n",
       "    </tr>\n",
       "    <tr>\n",
       "      <th>420</th>\n",
       "      <td>iran is rial</td>\n",
       "    </tr>\n",
       "    <tr>\n",
       "      <th>421</th>\n",
       "      <td>usa is dollar</td>\n",
       "    </tr>\n",
       "    <tr>\n",
       "      <th>422</th>\n",
       "      <td>nigeria is naira</td>\n",
       "    </tr>\n",
       "    <tr>\n",
       "      <th>423</th>\n",
       "      <td>japan is yen</td>\n",
       "    </tr>\n",
       "    <tr>\n",
       "      <th>424</th>\n",
       "      <td>denmark is krone</td>\n",
       "    </tr>\n",
       "  </tbody>\n",
       "</table>\n",
       "<p>425 rows × 1 columns</p>\n",
       "</div>"
      ],
      "text/plain": [
       "               sentences\n",
       "0       Athens is Greece\n",
       "1    Bangkok is Thailand\n",
       "2       Beijing is China\n",
       "3      Berlin is Germany\n",
       "4         Cairo is Egypt\n",
       "..                   ...\n",
       "420         iran is rial\n",
       "421        usa is dollar\n",
       "422     nigeria is naira\n",
       "423         japan is yen\n",
       "424     denmark is krone\n",
       "\n",
       "[425 rows x 1 columns]"
      ]
     },
     "execution_count": 86,
     "metadata": {},
     "output_type": "execute_result"
    }
   ],
   "source": [
    "df"
   ]
  },
  {
   "cell_type": "code",
   "execution_count": 77,
   "id": "cfc8c927",
   "metadata": {},
   "outputs": [],
   "source": [
    "df4 = pd.read_csv('trainset.csv')"
   ]
  },
  {
   "cell_type": "code",
   "execution_count": 78,
   "id": "6307b71b",
   "metadata": {},
   "outputs": [
    {
     "data": {
      "text/plain": [
       "(418, 1)"
      ]
     },
     "execution_count": 78,
     "metadata": {},
     "output_type": "execute_result"
    }
   ],
   "source": [
    "df4.shape"
   ]
  },
  {
   "cell_type": "code",
   "execution_count": null,
   "id": "164a5889",
   "metadata": {},
   "outputs": [],
   "source": []
  }
 ],
 "metadata": {
  "kernelspec": {
   "display_name": "Python 3 (ipykernel)",
   "language": "python",
   "name": "python3"
  },
  "language_info": {
   "codemirror_mode": {
    "name": "ipython",
    "version": 3
   },
   "file_extension": ".py",
   "mimetype": "text/x-python",
   "name": "python",
   "nbconvert_exporter": "python",
   "pygments_lexer": "ipython3",
   "version": "3.9.16"
  }
 },
 "nbformat": 4,
 "nbformat_minor": 5
}

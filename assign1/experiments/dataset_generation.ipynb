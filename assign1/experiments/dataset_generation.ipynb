{
 "cells": [
  {
   "cell_type": "code",
   "execution_count": 1,
   "id": "68b4a6d8",
   "metadata": {},
   "outputs": [],
   "source": [
    "import pandas as pd\n",
    "import warnings\n",
    "from tqdm import tqdm\n",
    "tqdm.pandas()\n",
    "warnings.filterwarnings(\"ignore\")"
   ]
  },
  {
   "cell_type": "code",
   "execution_count": 2,
   "id": "1734508d",
   "metadata": {},
   "outputs": [],
   "source": [
    "CONTEXT_SIZE = 3\n",
    "global result"
   ]
  },
  {
   "cell_type": "markdown",
   "id": "743448ca",
   "metadata": {},
   "source": [
    "### Functions"
   ]
  },
  {
   "cell_type": "code",
   "execution_count": 3,
   "id": "4f952044",
   "metadata": {},
   "outputs": [],
   "source": [
    "def get_data(sentence):\n",
    "    global result\n",
    "    for i, word in enumerate(sentence):\n",
    "        start = max(0, i - CONTEXT_SIZE)\n",
    "        end = min(len(sentence), i + CONTEXT_SIZE + 1)\n",
    "        words = []\n",
    "        for j in range(start, end):\n",
    "            if j != i:\n",
    "                words.append(sentence[j])\n",
    "        result = result.append({'context': word, 'words': words}, ignore_index=True)\n",
    "    return result"
   ]
  },
  {
   "cell_type": "markdown",
   "id": "f58f222b",
   "metadata": {},
   "source": [
    "### Read Processed Data"
   ]
  },
  {
   "cell_type": "code",
   "execution_count": 4,
   "id": "5b8f7cb8",
   "metadata": {},
   "outputs": [],
   "source": [
    "df = pd.read_csv('./../data/processed/processed_data_2.csv')\n",
    "df = df.dropna()\n",
    "\n",
    "result = pd.DataFrame(columns=['context','words'])"
   ]
  },
  {
   "cell_type": "code",
   "execution_count": null,
   "id": "0a184b92",
   "metadata": {},
   "outputs": [],
   "source": [
    "vocab = set()\n",
    "_ = df['sentences'].apply(lambda sent : vocab.update(sent.split()))\n",
    "print(\"Vocab length : \" +str(len(vocab)))\n",
    "\n",
    "# Create the word-to-index and index-to-word dictionaries\n",
    "word2idx = {w: i for i, w in enumerate(vocab)}\n",
    "idx2word = {i: w for i, w in enumerate(vocab)}"
   ]
  },
  {
   "cell_type": "code",
   "execution_count": null,
   "id": "ff2ce40e",
   "metadata": {},
   "outputs": [],
   "source": [
    "# df['sentences'] = df['sentences'].apply(lambda sent : sent.split())\n",
    "df['sentences'] = df['sentences'].apply(lambda sent : [word2idx[word] for word in sent.split()])"
   ]
  },
  {
   "cell_type": "code",
   "execution_count": null,
   "id": "1df3fc8b",
   "metadata": {},
   "outputs": [],
   "source": [
    "for row in tqdm(df['sentences']):\n",
    "    data = get_data(row, data)"
   ]
  },
  {
   "cell_type": "code",
   "execution_count": null,
   "id": "ccdbe8c4",
   "metadata": {},
   "outputs": [],
   "source": []
  },
  {
   "cell_type": "code",
   "execution_count": null,
   "id": "905ba23a",
   "metadata": {},
   "outputs": [],
   "source": [
    "_ = df['sentences'].progress_apply(lambda sent : get_data(sent))"
   ]
  },
  {
   "cell_type": "code",
   "execution_count": null,
   "id": "2726881f",
   "metadata": {},
   "outputs": [],
   "source": [
    "result"
   ]
  },
  {
   "cell_type": "code",
   "execution_count": null,
   "id": "3d7fced3",
   "metadata": {},
   "outputs": [],
   "source": []
  }
 ],
 "metadata": {
  "kernelspec": {
   "display_name": "Python 3 (ipykernel)",
   "language": "python",
   "name": "python3"
  },
  "language_info": {
   "codemirror_mode": {
    "name": "ipython",
    "version": 3
   },
   "file_extension": ".py",
   "mimetype": "text/x-python",
   "name": "python",
   "nbconvert_exporter": "python",
   "pygments_lexer": "ipython3",
   "version": "3.9.16"
  }
 },
 "nbformat": 4,
 "nbformat_minor": 5
}

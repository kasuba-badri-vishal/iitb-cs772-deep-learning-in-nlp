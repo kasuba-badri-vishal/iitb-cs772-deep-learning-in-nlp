{
 "cells": [
  {
   "cell_type": "code",
   "execution_count": 27,
   "id": "79f4ff5c",
   "metadata": {},
   "outputs": [],
   "source": [
    "import collections\n",
    "import numpy as np\n",
    "import random\n",
    "import tensorflow.compat.v1 as tf\n",
    "tf.disable_v2_behavior()\n",
    "\n",
    "\n",
    "class SkipGram:\n",
    "    def __init__(self, vocab_size, embedding_dim):\n",
    "        self.vocab_size = vocab_size\n",
    "        self.embedding_dim = embedding_dim\n",
    "        self.embeddings = np.random.randn(vocab_size, embedding_dim)\n",
    "        self.W1 = np.random.randn(embedding_dim, vocab_size)\n",
    "        self.b1 = np.zeros(vocab_size)\n",
    "    \n",
    "    def forward(self, inputs):\n",
    "        z = np.dot(self.embeddings[inputs], self.W1) + self.b1\n",
    "        exp_scores = np.exp(z)\n",
    "        softmax_scores = exp_scores / np.sum(exp_scores, axis=0, keepdims=True)\n",
    "        return softmax_scores\n",
    "    \n",
    "    def backward(self, inputs, labels, learning_rate):\n",
    "        softmax_scores = self.forward(inputs)\n",
    "        dL_dZ = softmax_scores\n",
    "        dL_dZ[labels] -= 1\n",
    "        dL_dW1 = np.dot(self.embeddings[inputs].T, dL_dZ)\n",
    "        dL_db1 = np.sum(dL_dZ, axis=0)\n",
    "        self.W1 -= learning_rate * dL_dW1\n",
    "        self.b1 -= learning_rate * dL_db1\n",
    "        dL_dEmbeddings = np.dot(dL_dZ, self.W1.T)\n",
    "        self.embeddings[inputs] -= learning_rate * dL_dEmbeddings\n",
    "\n",
    "def read_data(filename):\n",
    "    with open(filename, \"r\") as f:\n",
    "        data = f.read()\n",
    "    return data\n",
    "\n",
    "def build_vocab(data, vocab_size):\n",
    "    # Count the frequency of each word in the data\n",
    "    counter = collections.Counter(data.split())\n",
    "    # Keep only the most common vocab_size words\n",
    "    words, _ = zip(*counter.most_common(vocab_size))\n",
    "    # Create a dictionary mapping words to integers\n",
    "    word_to_int = dict(zip(words, range(len(words))))\n",
    "    # Add a special token for unknown words\n",
    "    word_to_int[\"UNK\"] = len(words)\n",
    "    return word_to_int\n",
    "\n",
    "def convert_to_ints(data, word_to_int):\n",
    "    return [word_to_int.get(word, word_to_int[\"UNK\"]) for word in data.split()]\n",
    "\n",
    "def generate_sample(data, window_size):\n",
    "    for i, word in enumerate(data):\n",
    "        start = max(0, i - window_size)\n",
    "        end = min(len(data), i + window_size + 1)\n",
    "        for j in range(start, end):\n",
    "            if j != i:\n",
    "                yield (word, data[j])\n",
    "\n",
    "def get_batch(data, batch_size, window_size):\n",
    "    # Generate pairs of (word, context_word) from the data\n",
    "    pairs = generate_sample(data, window_size)\n",
    "    # Group the pairs into batches of size batch_size\n",
    "    while True:\n",
    "        batch = np.array(random.sample(list(pairs), batch_size))\n",
    "        yield (batch[:, 0], batch[:, 1])\n",
    "\n",
    "def train_skip_gram(data, vocab_size, embedding_dim, batch_size, window_size, learning_rate, num_steps):\n",
    "    # Create a word to integer mapping\n",
    "    word_to_int = build_vocab(data, vocab_size)\n",
    "    # Convert the data to integers\n",
    "    data = convert_to_ints(data, word_to_int)\n",
    "    # Create a generator for generating batches\n",
    "    batches = get_batch(data, batch_size, window_size)\n",
    "    # Define the Tensorflow placeholders for the input words and context words\n",
    "    inputs = tf.placeholder(tf.int32, shape=[batch_size], name=\"inputs\")\n",
    "    labels = tf.placeholder(tf.int32, shape=[batch_size, 1], name=\"labels\")\n",
    "    # Define the embedding matrix\n",
    "    embeddings = tf.Variable(tf.random_uniform([vocab_size, embedding_dim], -1.0, 1.0), name=\"embeddings\")\n",
    "    # Define the weights and biases for the output layer\n",
    "    W = tf.Variable(tf.truncated_normal([vocab_size, embedding_dim], stddev=0.1), name=\"W\")\n",
    "    b = tf.Variable(tf.zeros([vocab_size]), name=\"b\")\n",
    "    \n",
    "    return embeddings"
   ]
  },
  {
   "cell_type": "code",
   "execution_count": 35,
   "id": "55ad005e",
   "metadata": {},
   "outputs": [],
   "source": [
    "emb = train_skip_gram(result, len(vocab), 256, 1024, 3, 0.001, 3)"
   ]
  },
  {
   "cell_type": "code",
   "execution_count": 36,
   "id": "835ec22c",
   "metadata": {},
   "outputs": [
    {
     "data": {
      "text/plain": [
       "<tf.Variable 'embeddings_3:0' shape=(60695, 256) dtype=float32_ref>"
      ]
     },
     "execution_count": 36,
     "metadata": {},
     "output_type": "execute_result"
    }
   ],
   "source": [
    "emb"
   ]
  },
  {
   "cell_type": "code",
   "execution_count": null,
   "id": "8da1fa1f",
   "metadata": {},
   "outputs": [],
   "source": [
    "emb"
   ]
  },
  {
   "cell_type": "code",
   "execution_count": 32,
   "id": "bca40d65",
   "metadata": {},
   "outputs": [],
   "source": [
    "df = pd.read_csv('./../data/processed/processed_data_2.csv')\n",
    "df = df.dropna()"
   ]
  },
  {
   "cell_type": "code",
   "execution_count": 33,
   "id": "8c05124b",
   "metadata": {},
   "outputs": [
    {
     "name": "stdout",
     "output_type": "stream",
     "text": [
      "Vocab length : 60695\n"
     ]
    }
   ],
   "source": [
    "vocab = set()\n",
    "_ = df['sentences'].apply(lambda sent : vocab.update(sent.split()))\n",
    "print(\"Vocab length : \" +str(len(vocab)))"
   ]
  },
  {
   "cell_type": "code",
   "execution_count": 34,
   "id": "80575491",
   "metadata": {},
   "outputs": [],
   "source": [
    "result = ''\n",
    "for row in df['sentences']:\n",
    "    row += ' '\n",
    "    result += row"
   ]
  },
  {
   "cell_type": "code",
   "execution_count": null,
   "id": "61b6827f",
   "metadata": {},
   "outputs": [],
   "source": []
  }
 ],
 "metadata": {
  "kernelspec": {
   "display_name": "Python 3 (ipykernel)",
   "language": "python",
   "name": "python3"
  },
  "language_info": {
   "codemirror_mode": {
    "name": "ipython",
    "version": 3
   },
   "file_extension": ".py",
   "mimetype": "text/x-python",
   "name": "python",
   "nbconvert_exporter": "python",
   "pygments_lexer": "ipython3",
   "version": "3.9.16"
  },
  "vscode": {
   "interpreter": {
    "hash": "a13c73de3cedbfb786b1e658de57194a1d16ba92cfd2c8ff365a35a282c31269"
   }
  }
 },
 "nbformat": 4,
 "nbformat_minor": 5
}
